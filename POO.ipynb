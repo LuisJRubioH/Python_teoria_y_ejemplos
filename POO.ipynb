{
  "metadata": {
    "kernelspec": {
      "name": "xpython",
      "display_name": "Python 3.13 (XPython)",
      "language": "python"
    },
    "language_info": {
      "file_extension": ".py",
      "mimetype": "text/x-python",
      "name": "python",
      "version": "3.13.1"
    }
  },
  "nbformat_minor": 5,
  "nbformat": 4,
  "cells": [
    {
      "id": "2c854aa3-f8e0-46a1-bb9d-e5e65362d94c",
      "cell_type": "markdown",
      "source": "# Introducción a la Programación Orientada a Objetos",
      "metadata": {}
    },
    {
      "id": "14d4ea3d-cbcf-4fe5-9f54-db76bd829ddf",
      "cell_type": "markdown",
      "source": "## **Paradigma de programación**\n\nUn paradigma de programación es un modelo o estilo fundamental que define cómo se estructura y organiza el código para resolver problemas. Es una forma de pensar y abordar la programación, influyendo en cómo diseñamos algoritmos, manejamos datos y escribimos software.\n\n📌 **Tipos principales de paradigmas**:\n\n- Programación Imperativa\n  \n- Programación Orientada a Objetos (POO)\n\n- Programación Funcional\n\n- Programación Procedural\n\n- Programación Reactiva\n\n- Programación Lógica",
      "metadata": {}
    },
    {
      "id": "2820c6bd-b50c-41c4-912c-308850bd06ea",
      "cell_type": "markdown",
      "source": "## **Programación Orientada a Objetos (POO)** \nLa Programación Orientada a Objetos (POO) es un **paradigma de programación** que se basa en el concepto de \"objetos\", los cuales contienen datos (atributos) y comportamientos (métodos). Su objetivo es organizar el código de manera más modular, reutilizable y escalable.\n\n### Python y la Programación Orientada a Objetos\n\nPython es un **lenguaje orientado a objetos** porque permite modelar un programa como una colección de **clases** (plantillas) y **objetos** (instancias concretas).  \n\n## Ventajas\n- **Organización del código** → agrupa datos y comportamientos relacionados.\n  \n- **Reutilización** → una clase puede usarse para crear múltiples objetos, evitando duplicación.\n\n- **Mantenibilidad** → los cambios se concentran en las clases, afectando de forma controlada al resto del código.\n\n- **Escalabilidad** → mediante herencia, polimorfismo y composición se pueden ampliar funcionalidades sin romper el código existente.\n",
      "metadata": {}
    },
    {
      "id": "06ddfc77-ed6e-4dbd-bc41-c46b45fa1b65",
      "cell_type": "markdown",
      "source": "#### **Buenas Prácticas**\n\n- Nombres de clases en *PascalCase*.\n\n- Métodos y atributos en *snake_case*.\n\n- Usar *docstrings para documentar clases y métodos.\n\n- Evitar la sobreingeniería: usar POO cuando el problema lo requiera.\n\n",
      "metadata": {}
    },
    {
      "id": "97e1386e-f622-467f-ae87-96ba122f7407",
      "cell_type": "markdown",
      "source": "## 1. Clases, atributos, métodos y objetos\n\n- **clase** es una plantilla o molde que define:\n- **Atributos** → variables asociadas a la clase o al objeto.\n- **Métodos** → funciones asociadas a la clase.\n\n**Sintaxis básica:**\n```python\nclass Persona:\n    pass  # Clase vacía\n```\n- **Objetos**\nUn objeto es una instancia de una clase.\nPara crear un objeto, se llama a la clase como si fuera una función.\n\n\n### Ejemplo de Clase\n\n```python\n# Declaración de clase\nclass NombreClase():\n    # Atributos de clase\n    atributo_1 = \"valor 1\"\n    atributo_2 = \"valor 2\"\n\n    # Método\n    def metodo_1(self):\n        print(\"Método llamado con el objeto.\")\n        \n# Objeto creado apartir de una clase\nobjeto = NombreClase()\n\n#llamda al objeto\nobjeto.metodo_1()\n\n```\n\n\n",
      "metadata": {}
    },
    {
      "id": "4033b517-1591-4dc0-8318-c9e54dd83be8",
      "cell_type": "code",
      "source": "",
      "metadata": {
        "trusted": true
      },
      "outputs": [],
      "execution_count": null
    }
  ]
}
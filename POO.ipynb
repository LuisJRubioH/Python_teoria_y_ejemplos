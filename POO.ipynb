{
  "cells": [
    {
      "cell_type": "markdown",
      "id": "2c854aa3-f8e0-46a1-bb9d-e5e65362d94c",
      "metadata": {},
      "source": [
        "# Introducción a la Programación Orientada a Objetos"
      ]
    },
    {
      "cell_type": "markdown",
      "id": "14d4ea3d-cbcf-4fe5-9f54-db76bd829ddf",
      "metadata": {},
      "source": [
        "## **Paradigma de programación**\n",
        "\n",
        "Un paradigma de programación es un modelo o estilo fundamental que define cómo se estructura y organiza el código para resolver problemas. Es una forma de pensar y abordar la programación, influyendo en cómo diseñamos algoritmos, manejamos datos y escribimos software.\n",
        "\n",
        "📌 **Tipos principales de paradigmas**:\n",
        "\n",
        "- Programación Imperativa\n",
        "  \n",
        "- Programación Orientada a Objetos (POO)\n",
        "\n",
        "- Programación Funcional\n",
        "\n",
        "- Programación Procedural\n",
        "\n",
        "- Programación Reactiva\n",
        "\n",
        "- Programación Lógica"
      ]
    },
    {
      "cell_type": "markdown",
      "id": "2820c6bd-b50c-41c4-912c-308850bd06ea",
      "metadata": {},
      "source": [
        "## **Programación Orientada a Objetos (POO)** \n",
        "La Programación Orientada a Objetos (POO) es un **paradigma de programación** que se basa en el concepto de \"objetos\", los cuales contienen datos (atributos) y comportamientos (métodos). Su objetivo es organizar el código de manera más modular, reutilizable y escalable.\n",
        "\n",
        "### Python y la Programación Orientada a Objetos\n",
        "\n",
        "Python es un **lenguaje orientado a objetos** porque permite modelar un programa como una colección de **clases** (plantillas) y **objetos** (instancias concretas).  \n",
        "\n",
        "## Ventajas\n",
        "- **Organización del código** → agrupa datos y comportamientos relacionados.\n",
        "  \n",
        "- **Reutilización** → una clase puede usarse para crear múltiples objetos, evitando duplicación.\n",
        "\n",
        "- **Mantenibilidad** → los cambios se concentran en las clases, afectando de forma controlada al resto del código.\n",
        "\n",
        "- **Escalabilidad** → mediante herencia, polimorfismo y composición se pueden ampliar funcionalidades sin romper el código existente.\n"
      ]
    },
    {
      "cell_type": "markdown",
      "id": "06ddfc77-ed6e-4dbd-bc41-c46b45fa1b65",
      "metadata": {},
      "source": [
        "#### **Buenas Prácticas**\n",
        "\n",
        "- Nombres de clases en *PascalCase*.\n",
        "\n",
        "- Métodos y atributos en *snake_case*.\n",
        "\n",
        "- Usar *docstrings para documentar clases y métodos.\n",
        "\n",
        "- Evitar la sobreingeniería: usar POO cuando el problema lo requiera.\n",
        "\n"
      ]
    },
    {
      "cell_type": "markdown",
      "id": "97e1386e-f622-467f-ae87-96ba122f7407",
      "metadata": {},
      "source": [
        "## 1. Clases, atributos, métodos y objetos\n",
        "\n",
        "- **clase** es una plantilla o molde que define:\n",
        "- **Atributos** → variables asociadas a la clase o al objeto.\n",
        "- **Métodos** → funciones asociadas a la clase.\n",
        "\n",
        "**Sintaxis básica:**\n",
        "```python\n",
        "class Persona:\n",
        "    pass  # Clase vacía\n",
        "```\n",
        "- **Objetos**\n",
        "Un objeto es una instancia de una clase.\n",
        "Para crear un objeto, se llama a la clase como si fuera una función.\n",
        "\n",
        "\n",
        "### Ejemplo de Clase\n",
        "\n",
        "```python\n",
        "# Declaración de clase\n",
        "class NombreClase():\n",
        "    # Atributos de clase\n",
        "    atributo_1 = \"valor 1\"\n",
        "    atributo_2 = \"valor 2\"\n",
        "\n",
        "    # Método\n",
        "    def metodo_1(self):\n",
        "        print(\"Método llamado con el objeto.\")\n",
        "        \n",
        "# Objeto creado apartir de una clase\n",
        "objeto = NombreClase()\n",
        "\n",
        "#llamda al objeto\n",
        "objeto.metodo_1()\n",
        "\n",
        "```\n",
        "\n",
        "\n"
      ]
    },
    {
      "cell_type": "markdown",
      "id": "1e598a98",
      "metadata": {},
      "source": [
        "\n",
        "El parámetro **self** es la forma en que un método de instancia recibe una referencia al objeto actual que lo está llamando.\n",
        "\n",
        "*¿Qué significa self?*\n",
        "\n",
        "Cuando creas un objeto a partir de una clase, ese objeto puede tener sus propios atributos y métodos.\n",
        "\n",
        "**self** es el primer parámetro de todos los métodos de instancia y representa esa instancia específica.\n",
        "\n",
        "Permite que el método acceda y modifique atributos y llame a otros métodos del mismo objeto.\n",
        "\n",
        "\n",
        "Los métodos de instancia necesitan saber sobre qué objeto deben trabajar.\n",
        "self hace posible:\n",
        "\n",
        "- Distinguir los atributos de cada objeto.\n",
        "\n",
        "- Acceder a los datos del mismo objeto dentro de la clase.\n",
        "\n",
        "- Evitar colisiones entre variables locales y atributos.\n"
      ]
    }
  ],
  "metadata": {
    "kernelspec": {
      "display_name": "Python 3.13 (XPython)",
      "language": "python",
      "name": "xpython"
    },
    "language_info": {
      "file_extension": ".py",
      "mimetype": "text/x-python",
      "name": "python",
      "version": "3.13.1"
    }
  },
  "nbformat": 4,
  "nbformat_minor": 5
}
